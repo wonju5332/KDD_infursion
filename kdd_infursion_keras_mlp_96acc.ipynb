{
 "cells": [
  {
   "cell_type": "code",
   "execution_count": 1,
   "metadata": {},
   "outputs": [
    {
     "name": "stderr",
     "output_type": "stream",
     "text": [
      "Using TensorFlow backend.\n"
     ]
    }
   ],
   "source": [
    "from keras.models import Sequential\n",
    "from keras.layers import Dense, Activation\n",
    "from keras.optimizers import SGD\n",
    "from keras.optimizers import RMSprop"
   ]
  },
  {
   "cell_type": "code",
   "execution_count": 2,
   "metadata": {
    "collapsed": true
   },
   "outputs": [],
   "source": [
    "import pandas as pd\n",
    "import numpy as np\n",
    "from sklearn.preprocessing import MinMaxScaler\n",
    "from sklearn.model_selection import train_test_split"
   ]
  },
  {
   "cell_type": "markdown",
   "metadata": {},
   "source": [
    "## 데이터 전처리\n"
   ]
  },
  {
   "cell_type": "code",
   "execution_count": 3,
   "metadata": {
    "collapsed": true
   },
   "outputs": [],
   "source": [
    "col_names = np.array([\"duration\",\"protocol_type\",\"service\",\"flag\",\"src_bytes\",\n",
    "    \"dst_bytes\",\"land\",\"wrong_fragment\",\"urgent\",\"hot\",\"num_failed_logins\",\n",
    "    \"logged_in\",\"num_compromised\",\"root_shell\",\"su_attempted\",\"num_root\",\n",
    "    \"num_file_creations\",\"num_shells\",\"num_access_files\",\"num_outbound_cmds\",\n",
    "    \"is_host_login\",\"is_guest_login\",\"count\",\"srv_count\",\"serror_rate\",\n",
    "    \"srv_serror_rate\",\"rerror_rate\",\"srv_rerror_rate\",\"same_srv_rate\",\n",
    "    \"diff_srv_rate\",\"srv_diff_host_rate\",\"dst_host_count\",\"dst_host_srv_count\",\n",
    "    \"dst_host_same_srv_rate\",\"dst_host_diff_srv_rate\",\"dst_host_same_src_port_rate\",\n",
    "    \"dst_host_srv_diff_host_rate\",\"dst_host_serror_rate\",\"dst_host_srv_serror_rate\",\n",
    "    \"dst_host_rerror_rate\",\"dst_host_srv_rerror_rate\",\"labels\"])\n",
    "\n",
    "attack_dict = {'normal': 'normal','back': 'DoS','land': 'DoS','neptune': 'DoS','pod': 'DoS',\n",
    "               'smurf': 'DoS','teardrop': 'DoS','mailbomb': 'DoS','apache2': 'DoS','processtable': 'DoS',\n",
    "               'udpstorm': 'DoS',\n",
    "\n",
    "               'ipsweep': 'Probe','nmap': 'Probe','portsweep': 'Probe', 'satan': 'Probe', 'mscan': 'Probe',\n",
    "               'saint': 'Probe',\n",
    "\n",
    "               'ftp_write': 'R2L','guess_passwd': 'R2L','imap': 'R2L','multihop': 'R2L', 'phf': 'R2L','spy': 'R2L',\n",
    "                'warezclient': 'R2L','warezmaster': 'R2L','sendmail': 'R2L', 'named': 'R2L', 'snmpgetattack': 'R2L',\n",
    "               'snmpguess': 'R2L','xlock': 'R2L','xsnoop': 'R2L','worm': 'R2L',\n",
    "\n",
    "               'buffer_overflow': 'U2R','loadmodule': 'U2R', 'perl': 'U2R', 'rootkit': 'U2R','httptunnel': 'U2R',\n",
    "               'ps': 'U2R','sqlattack': 'U2R','xterm': 'U2R'\n",
    "}\n",
    "\n",
    "FILE_PATH = './kdd/'\n",
    "dummy_list = ['protocol_type','service','flag']\n",
    "log_scaling_list = ['duration','src_bytes','dst_bytes']\n",
    "binary_dict = {'DoS' : 1,  'normal':0, 'Probe':1 ,'R2L':1, 'U2R':1} # 이진분류를 위해 정상과 나머지(비정상)을 비교 예측하기"
   ]
  },
  {
   "cell_type": "markdown",
   "metadata": {},
   "source": [
    "### 데이터 전처리를 위한 일련의 과정"
   ]
  },
  {
   "cell_type": "code",
   "execution_count": 4,
   "metadata": {
    "collapsed": true
   },
   "outputs": [],
   "source": [
    "\n",
    "\n",
    "def _data_load():\n",
    "    '''\n",
    "    '''\n",
    "    cnt = 0\n",
    "    file_list = ['KDDTrain+','KDDTest+', 'KDDTest-21']\n",
    "    for name in file_list:\n",
    "        if cnt < 1:\n",
    "            result = pd.read_csv(FILE_PATH+name+'.txt', header=None)\n",
    "            cnt += 1\n",
    "        else:\n",
    "            result.append(pd.read_csv(FILE_PATH+name+'.txt', header=None))\n",
    "    result = result.iloc[:, 0:42]  # 끝행 지우기\n",
    "    return result\n",
    "\n",
    "def _concat_dummy(df, var):\n",
    "    \n",
    "    '''\n",
    "    Type : {'A','B','C','D'} ----> Type_A : [0,1] , Type_B : [0,1] ... 이런식으로 더미변수 처리시켜주는 함수.\n",
    "    '''\n",
    "\n",
    "    for name in var:\n",
    "        df = pd.concat([df,pd.get_dummies(df[name])], axis=1)\n",
    "    return df.drop(var , axis=1)  # 더미변수 처리하였으니 쓸모없어진 본래의 애트리뷰트는 삭제한다.\n",
    "\n",
    "\n",
    "def _min_max_scalier(df, binary_classify=True):\n",
    "    '''\n",
    "    scikit-learn 패키지를 활용한 min-max scaling으로 0 ~ 1에 해당하는 값으로 변환\n",
    "    '''\n",
    "\n",
    "    df = df.drop(['labels'],axis=1)\n",
    "    scaler = MinMaxScaler()\n",
    "    return scaler.fit_transform(df)\n",
    "\n",
    "def one_hot_encoder(df, var):\n",
    "    '''\n",
    "    labels : {'normal','U2R' .... 'R2U'} --> [0,1, ...1 ]\n",
    "    '''\n",
    "    df_y = df['labels'].map(var)         #Normal : 0 Anomal : 1의 형태로 변형\n",
    "    y_ = np.array(pd.get_dummies(df_y))  #원-핫 형태로 변형\n",
    "\n",
    "    return y_"
   ]
  },
  {
   "cell_type": "code",
   "execution_count": 5,
   "metadata": {
    "collapsed": true
   },
   "outputs": [],
   "source": [
    "df = _data_load()  # 데이터 로드\n",
    "df.columns = col_names  # 헤더값 정의\n",
    "df['labels'] = df['labels'].map(attack_dict)  # 위협 별 종류 맵핑  ex) ps : 'U2R'"
   ]
  },
  {
   "cell_type": "markdown",
   "metadata": {},
   "source": [
    "### 가공 전 데이터의 형태"
   ]
  },
  {
   "cell_type": "code",
   "execution_count": 6,
   "metadata": {},
   "outputs": [
    {
     "data": {
      "text/html": [
       "<div>\n",
       "<style>\n",
       "    .dataframe thead tr:only-child th {\n",
       "        text-align: right;\n",
       "    }\n",
       "\n",
       "    .dataframe thead th {\n",
       "        text-align: left;\n",
       "    }\n",
       "\n",
       "    .dataframe tbody tr th {\n",
       "        vertical-align: top;\n",
       "    }\n",
       "</style>\n",
       "<table border=\"1\" class=\"dataframe\">\n",
       "  <thead>\n",
       "    <tr style=\"text-align: right;\">\n",
       "      <th></th>\n",
       "      <th>duration</th>\n",
       "      <th>protocol_type</th>\n",
       "      <th>service</th>\n",
       "      <th>flag</th>\n",
       "      <th>src_bytes</th>\n",
       "      <th>dst_bytes</th>\n",
       "      <th>land</th>\n",
       "      <th>wrong_fragment</th>\n",
       "      <th>urgent</th>\n",
       "      <th>hot</th>\n",
       "      <th>...</th>\n",
       "      <th>dst_host_srv_count</th>\n",
       "      <th>dst_host_same_srv_rate</th>\n",
       "      <th>dst_host_diff_srv_rate</th>\n",
       "      <th>dst_host_same_src_port_rate</th>\n",
       "      <th>dst_host_srv_diff_host_rate</th>\n",
       "      <th>dst_host_serror_rate</th>\n",
       "      <th>dst_host_srv_serror_rate</th>\n",
       "      <th>dst_host_rerror_rate</th>\n",
       "      <th>dst_host_srv_rerror_rate</th>\n",
       "      <th>labels</th>\n",
       "    </tr>\n",
       "  </thead>\n",
       "  <tbody>\n",
       "    <tr>\n",
       "      <th>0</th>\n",
       "      <td>0</td>\n",
       "      <td>tcp</td>\n",
       "      <td>ftp_data</td>\n",
       "      <td>SF</td>\n",
       "      <td>491</td>\n",
       "      <td>0</td>\n",
       "      <td>0</td>\n",
       "      <td>0</td>\n",
       "      <td>0</td>\n",
       "      <td>0</td>\n",
       "      <td>...</td>\n",
       "      <td>25</td>\n",
       "      <td>0.17</td>\n",
       "      <td>0.03</td>\n",
       "      <td>0.17</td>\n",
       "      <td>0.00</td>\n",
       "      <td>0.00</td>\n",
       "      <td>0.00</td>\n",
       "      <td>0.05</td>\n",
       "      <td>0.00</td>\n",
       "      <td>normal</td>\n",
       "    </tr>\n",
       "    <tr>\n",
       "      <th>1</th>\n",
       "      <td>0</td>\n",
       "      <td>udp</td>\n",
       "      <td>other</td>\n",
       "      <td>SF</td>\n",
       "      <td>146</td>\n",
       "      <td>0</td>\n",
       "      <td>0</td>\n",
       "      <td>0</td>\n",
       "      <td>0</td>\n",
       "      <td>0</td>\n",
       "      <td>...</td>\n",
       "      <td>1</td>\n",
       "      <td>0.00</td>\n",
       "      <td>0.60</td>\n",
       "      <td>0.88</td>\n",
       "      <td>0.00</td>\n",
       "      <td>0.00</td>\n",
       "      <td>0.00</td>\n",
       "      <td>0.00</td>\n",
       "      <td>0.00</td>\n",
       "      <td>normal</td>\n",
       "    </tr>\n",
       "    <tr>\n",
       "      <th>2</th>\n",
       "      <td>0</td>\n",
       "      <td>tcp</td>\n",
       "      <td>private</td>\n",
       "      <td>S0</td>\n",
       "      <td>0</td>\n",
       "      <td>0</td>\n",
       "      <td>0</td>\n",
       "      <td>0</td>\n",
       "      <td>0</td>\n",
       "      <td>0</td>\n",
       "      <td>...</td>\n",
       "      <td>26</td>\n",
       "      <td>0.10</td>\n",
       "      <td>0.05</td>\n",
       "      <td>0.00</td>\n",
       "      <td>0.00</td>\n",
       "      <td>1.00</td>\n",
       "      <td>1.00</td>\n",
       "      <td>0.00</td>\n",
       "      <td>0.00</td>\n",
       "      <td>DoS</td>\n",
       "    </tr>\n",
       "    <tr>\n",
       "      <th>3</th>\n",
       "      <td>0</td>\n",
       "      <td>tcp</td>\n",
       "      <td>http</td>\n",
       "      <td>SF</td>\n",
       "      <td>232</td>\n",
       "      <td>8153</td>\n",
       "      <td>0</td>\n",
       "      <td>0</td>\n",
       "      <td>0</td>\n",
       "      <td>0</td>\n",
       "      <td>...</td>\n",
       "      <td>255</td>\n",
       "      <td>1.00</td>\n",
       "      <td>0.00</td>\n",
       "      <td>0.03</td>\n",
       "      <td>0.04</td>\n",
       "      <td>0.03</td>\n",
       "      <td>0.01</td>\n",
       "      <td>0.00</td>\n",
       "      <td>0.01</td>\n",
       "      <td>normal</td>\n",
       "    </tr>\n",
       "    <tr>\n",
       "      <th>4</th>\n",
       "      <td>0</td>\n",
       "      <td>tcp</td>\n",
       "      <td>http</td>\n",
       "      <td>SF</td>\n",
       "      <td>199</td>\n",
       "      <td>420</td>\n",
       "      <td>0</td>\n",
       "      <td>0</td>\n",
       "      <td>0</td>\n",
       "      <td>0</td>\n",
       "      <td>...</td>\n",
       "      <td>255</td>\n",
       "      <td>1.00</td>\n",
       "      <td>0.00</td>\n",
       "      <td>0.00</td>\n",
       "      <td>0.00</td>\n",
       "      <td>0.00</td>\n",
       "      <td>0.00</td>\n",
       "      <td>0.00</td>\n",
       "      <td>0.00</td>\n",
       "      <td>normal</td>\n",
       "    </tr>\n",
       "  </tbody>\n",
       "</table>\n",
       "<p>5 rows × 42 columns</p>\n",
       "</div>"
      ],
      "text/plain": [
       "   duration protocol_type   service flag  src_bytes  dst_bytes  land  \\\n",
       "0         0           tcp  ftp_data   SF        491          0     0   \n",
       "1         0           udp     other   SF        146          0     0   \n",
       "2         0           tcp   private   S0          0          0     0   \n",
       "3         0           tcp      http   SF        232       8153     0   \n",
       "4         0           tcp      http   SF        199        420     0   \n",
       "\n",
       "   wrong_fragment  urgent  hot   ...    dst_host_srv_count  \\\n",
       "0               0       0    0   ...                    25   \n",
       "1               0       0    0   ...                     1   \n",
       "2               0       0    0   ...                    26   \n",
       "3               0       0    0   ...                   255   \n",
       "4               0       0    0   ...                   255   \n",
       "\n",
       "   dst_host_same_srv_rate  dst_host_diff_srv_rate  \\\n",
       "0                    0.17                    0.03   \n",
       "1                    0.00                    0.60   \n",
       "2                    0.10                    0.05   \n",
       "3                    1.00                    0.00   \n",
       "4                    1.00                    0.00   \n",
       "\n",
       "   dst_host_same_src_port_rate  dst_host_srv_diff_host_rate  \\\n",
       "0                         0.17                         0.00   \n",
       "1                         0.88                         0.00   \n",
       "2                         0.00                         0.00   \n",
       "3                         0.03                         0.04   \n",
       "4                         0.00                         0.00   \n",
       "\n",
       "   dst_host_serror_rate  dst_host_srv_serror_rate  dst_host_rerror_rate  \\\n",
       "0                  0.00                      0.00                  0.05   \n",
       "1                  0.00                      0.00                  0.00   \n",
       "2                  1.00                      1.00                  0.00   \n",
       "3                  0.03                      0.01                  0.00   \n",
       "4                  0.00                      0.00                  0.00   \n",
       "\n",
       "   dst_host_srv_rerror_rate  labels  \n",
       "0                      0.00  normal  \n",
       "1                      0.00  normal  \n",
       "2                      0.00     DoS  \n",
       "3                      0.01  normal  \n",
       "4                      0.00  normal  \n",
       "\n",
       "[5 rows x 42 columns]"
      ]
     },
     "execution_count": 6,
     "metadata": {},
     "output_type": "execute_result"
    }
   ],
   "source": [
    "df.head()  "
   ]
  },
  {
   "cell_type": "markdown",
   "metadata": {},
   "source": [
    "### 수치화 해야할 변수\n",
    "#### 'protocol_type' , 'service' ,'flag' ---> 더미변수처리하여 딥러닝에 학습할 수 있게끔 수치화해야함."
   ]
  },
  {
   "cell_type": "code",
   "execution_count": 7,
   "metadata": {
    "collapsed": true
   },
   "outputs": [],
   "source": [
    "df = _concat_dummy(df, dummy_list) # 더미변수처리"
   ]
  },
  {
   "cell_type": "markdown",
   "metadata": {},
   "source": [
    "#### 아래와 같이 특정 컬럼의 한 종류였던 값들이 더미변수 처리 되어 0또는 1의 값을 가지는 컬럼이 되었음."
   ]
  },
  {
   "cell_type": "code",
   "execution_count": 9,
   "metadata": {},
   "outputs": [
    {
     "name": "stdout",
     "output_type": "stream",
     "text": [
      "   icmp  tcp  udp  IRC  X11  Z39_50  aol  auth  bgp  courier ...  OTH  REJ  \\\n",
      "0     0    1    0    0    0       0    0     0    0        0 ...    0    0   \n",
      "1     0    0    1    0    0       0    0     0    0        0 ...    0    0   \n",
      "2     0    1    0    0    0       0    0     0    0        0 ...    0    0   \n",
      "3     0    1    0    0    0       0    0     0    0        0 ...    0    0   \n",
      "4     0    1    0    0    0       0    0     0    0        0 ...    0    0   \n",
      "\n",
      "   RSTO  RSTOS0  RSTR  S0  S1  S2  S3  SF  \n",
      "0     0       0     0   0   0   0   0   1  \n",
      "1     0       0     0   0   0   0   0   1  \n",
      "2     0       0     0   1   0   0   0   0  \n",
      "3     0       0     0   0   0   0   0   1  \n",
      "4     0       0     0   0   0   0   0   1  \n",
      "\n",
      "[5 rows x 83 columns]\n"
     ]
    }
   ],
   "source": [
    "print(df.iloc[:,39:-1].head())"
   ]
  },
  {
   "cell_type": "markdown",
   "metadata": {},
   "source": [
    "### 로그스케일 해야할 변수\n",
    "#### 'duration','src_bytes','dst_bytes' ----> 해당 값은 최소값과 최대값의 차이가 커서 노말라이제이션을 했을 때 \n",
    "#### 변수들의 표현력이 떨어질 것을 우려하여 로그스케일처리부터 먼저 하려고 함.\n"
   ]
  },
  {
   "cell_type": "code",
   "execution_count": 10,
   "metadata": {},
   "outputs": [
    {
     "name": "stdout",
     "output_type": "stream",
     "text": [
      "            duration     src_bytes     dst_bytes\n",
      "count  148517.000000  1.485170e+05  1.485170e+05\n",
      "mean      276.779305  4.022795e+04  1.708885e+04\n",
      "std      2460.683131  5.409612e+06  3.703525e+06\n",
      "min         0.000000  0.000000e+00  0.000000e+00\n",
      "25%         0.000000  0.000000e+00  0.000000e+00\n",
      "50%         0.000000  4.400000e+01  0.000000e+00\n",
      "75%         0.000000  2.780000e+02  5.710000e+02\n",
      "max     57715.000000  1.379964e+09  1.309937e+09\n"
     ]
    }
   ],
   "source": [
    "print(df[log_scaling_list].describe(),) #로그스케일 전"
   ]
  },
  {
   "cell_type": "code",
   "execution_count": 12,
   "metadata": {},
   "outputs": [],
   "source": [
    "df[log_scaling_list] = df[log_scaling_list].apply(lambda x:np.log(x+0.1)) #로그스케일 처리"
   ]
  },
  {
   "cell_type": "code",
   "execution_count": 14,
   "metadata": {},
   "outputs": [
    {
     "name": "stdout",
     "output_type": "stream",
     "text": [
      "            duration      src_bytes      dst_bytes\n",
      "count  148517.000000  148517.000000  148517.000000\n",
      "mean       -1.735748       2.391284       1.960738\n",
      "std         2.071255       4.024348       4.626609\n",
      "min        -2.302585      -2.302585      -2.302585\n",
      "25%        -2.302585      -2.302585      -2.302585\n",
      "50%        -2.302585       3.786460      -2.302585\n",
      "75%        -2.302585       5.627981       6.347564\n",
      "max        10.963274      21.045323      20.993245\n"
     ]
    }
   ],
   "source": [
    "print(df[log_scaling_list].describe()) #로그스케일 후"
   ]
  },
  {
   "cell_type": "code",
   "execution_count": 16,
   "metadata": {
    "collapsed": true
   },
   "outputs": [],
   "source": [
    "new_df = _min_max_scalier(df)  # min-max 스케일링 적용\n",
    "y_ = one_hot_encoder(df, binary_dict)  # 타겟데이터의 원-핫 인코딩"
   ]
  },
  {
   "cell_type": "markdown",
   "metadata": {},
   "source": [
    "#### 훈련데이터와 시험데이터 나누기 작업"
   ]
  },
  {
   "cell_type": "code",
   "execution_count": 18,
   "metadata": {},
   "outputs": [
    {
     "name": "stdout",
     "output_type": "stream",
     "text": [
      "(99506, 122) (49011, 122) (99506, 2) (49011, 2)\n"
     ]
    }
   ],
   "source": [
    "X_train, X_test, y_train, y_test = train_test_split(new_df, y_, test_size = 0.33, random_state = 42)\n",
    "print(X_train.shape, X_test.shape, y_train.shape, y_test.shape)"
   ]
  },
  {
   "cell_type": "markdown",
   "metadata": {},
   "source": [
    "### 가공이 모두 끝난 후의 데이터 상태"
   ]
  },
  {
   "cell_type": "code",
   "execution_count": 22,
   "metadata": {},
   "outputs": [
    {
     "name": "stdout",
     "output_type": "stream",
     "text": [
      "input_data\n",
      " [[ 0.          0.          0.         ...,  0.          0.          0.        ]\n",
      " [ 0.          0.26079616  0.30781854 ...,  0.          1.          0.        ]\n",
      " [ 0.          0.18821597  0.         ...,  0.          1.          0.        ]\n",
      " ..., \n",
      " [ 0.          0.          0.         ...,  0.          0.          0.        ]\n",
      " [ 0.          0.32826695  0.34660013 ...,  0.          1.          0.        ]\n",
      " [ 0.          0.38205229  0.         ...,  0.          1.          0.        ]]\n",
      "label_data\n",
      " [[0 1]\n",
      " [1 0]\n",
      " [0 1]\n",
      " [1 0]\n",
      " [1 0]\n",
      " [1 0]\n",
      " [1 0]\n",
      " [0 1]\n",
      " [1 0]\n",
      " [1 0]]\n"
     ]
    }
   ],
   "source": [
    "print('input_data\\n',X_train[0:10,:])\n",
    "print('label_data\\n', y_train[0:10,:])"
   ]
  },
  {
   "cell_type": "markdown",
   "metadata": {},
   "source": [
    "## 간단한 3층 MLP 를 Keras로 구현"
   ]
  },
  {
   "cell_type": "code",
   "execution_count": 24,
   "metadata": {},
   "outputs": [
    {
     "name": "stdout",
     "output_type": "stream",
     "text": [
      "n_in : 122, n_hidden : 200, n_out : 2\n"
     ]
    }
   ],
   "source": [
    "n_in = len(X_train[0])\n",
    "n_hidden = 200\n",
    "n_out = len(y_train[0])\n",
    "print('n_in : {}, n_hidden : {}, n_out : {}'.format(n_in,n_hidden,n_out))"
   ]
  },
  {
   "cell_type": "markdown",
   "metadata": {},
   "source": [
    "# 모델 아키텍처 구성\n",
    "#### 은닉 2층 / learning rate = 0.01 / 최적화 = SGD / 활성화함수 = 'ReLU' / 배치사이즈 200 / Epoch = 20"
   ]
  },
  {
   "cell_type": "code",
   "execution_count": 26,
   "metadata": {},
   "outputs": [
    {
     "name": "stdout",
     "output_type": "stream",
     "text": [
      "Epoch 1/20\n",
      "6s - loss: 0.2827 - acc: 0.9184\n",
      "Epoch 2/20\n",
      "5s - loss: 0.1801 - acc: 0.9376\n",
      "Epoch 3/20\n",
      "4s - loss: 0.1590 - acc: 0.9400\n",
      "Epoch 4/20\n",
      "5s - loss: 0.1453 - acc: 0.9441\n",
      "Epoch 5/20\n",
      "5s - loss: 0.1353 - acc: 0.9465\n",
      "Epoch 6/20\n",
      "5s - loss: 0.1276 - acc: 0.9516\n",
      "Epoch 7/20\n",
      "5s - loss: 0.1214 - acc: 0.9549\n",
      "Epoch 8/20\n",
      "5s - loss: 0.1162 - acc: 0.9576\n",
      "Epoch 9/20\n",
      "4s - loss: 0.1116 - acc: 0.9601\n",
      "Epoch 10/20\n",
      "5s - loss: 0.1076 - acc: 0.9614\n",
      "Epoch 11/20\n",
      "5s - loss: 0.1039 - acc: 0.9624\n",
      "Epoch 12/20\n",
      "5s - loss: 0.1006 - acc: 0.9638\n",
      "Epoch 13/20\n",
      "5s - loss: 0.0974 - acc: 0.9645\n",
      "Epoch 14/20\n",
      "5s - loss: 0.0945 - acc: 0.9650\n",
      "Epoch 15/20\n",
      "4s - loss: 0.0918 - acc: 0.9656\n",
      "Epoch 16/20\n",
      "4s - loss: 0.0893 - acc: 0.9664\n",
      "Epoch 17/20\n",
      "5s - loss: 0.0869 - acc: 0.9668\n",
      "Epoch 18/20\n",
      "5s - loss: 0.0847 - acc: 0.9679\n",
      "Epoch 19/20\n",
      "5s - loss: 0.0826 - acc: 0.9686\n",
      "Epoch 20/20\n",
      "5s - loss: 0.0806 - acc: 0.9692\n",
      "48544/49011 [============================>.] - ETA: 0s"
     ]
    }
   ],
   "source": [
    "model = Sequential()\n",
    "\n",
    "model.add(Dense(n_hidden, input_dim=n_in ))   # 122 x 200\n",
    "model.add(Activation('relu'))\n",
    "\n",
    "model.add(Dense(400) )   # 200 x 100\n",
    "model.add(Activation('relu'))\n",
    "\n",
    "model.add(Dense(n_out))\n",
    "model.add(Activation('softmax'))\n",
    "\n",
    "\n",
    "epochs = 20\n",
    "batch_size = 200\n",
    "\n",
    "model.compile(loss='binary_crossentropy',\n",
    "              optimizer=SGD(),\n",
    "              metrics=['accuracy'])\n",
    "model.fit(X_train, y_train, epochs=epochs, batch_size=batch_size, verbose=2)\n",
    "\n",
    "loss_and_metrics = model.evaluate(X_test, y_test)\n",
    "\n",
    "\n",
    "y_pred = model.predict_classes(X_test)"
   ]
  },
  {
   "cell_type": "code",
   "execution_count": 31,
   "metadata": {},
   "outputs": [
    {
     "name": "stdout",
     "output_type": "stream",
     "text": [
      "loss : 0.08109689612145357 , test_acc : 0.9699863295994776\n"
     ]
    }
   ],
   "source": [
    "print('loss : {} , test_acc : {}'.format(loss_and_metrics[0],loss_and_metrics[1]))"
   ]
  },
  {
   "cell_type": "code",
   "execution_count": null,
   "metadata": {
    "collapsed": true
   },
   "outputs": [],
   "source": []
  }
 ],
 "metadata": {
  "kernelspec": {
   "display_name": "Python 3",
   "language": "python",
   "name": "python3"
  },
  "language_info": {
   "codemirror_mode": {
    "name": "ipython",
    "version": 3
   },
   "file_extension": ".py",
   "mimetype": "text/x-python",
   "name": "python",
   "nbconvert_exporter": "python",
   "pygments_lexer": "ipython3",
   "version": "3.6.3"
  }
 },
 "nbformat": 4,
 "nbformat_minor": 2
}
